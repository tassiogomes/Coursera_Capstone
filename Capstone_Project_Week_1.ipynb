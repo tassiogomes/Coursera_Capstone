{
  "nbformat": 4,
  "nbformat_minor": 0,
  "metadata": {
    "colab": {
      "name": "Capstone_Project_Week_1.ipynb",
      "provenance": [],
      "collapsed_sections": [],
      "authorship_tag": "ABX9TyMoAVK/6vV0uhm0l+J4quWT",
      "include_colab_link": true
    },
    "kernelspec": {
      "name": "python3",
      "display_name": "Python 3"
    }
  },
  "cells": [
    {
      "cell_type": "markdown",
      "metadata": {
        "id": "view-in-github",
        "colab_type": "text"
      },
      "source": [
        "<a href=\"https://colab.research.google.com/github/tassiogomes/Coursera_Capstone/blob/master/Capstone_Project_Week_1.ipynb\" target=\"_parent\"><img src=\"https://colab.research.google.com/assets/colab-badge.svg\" alt=\"Open In Colab\"/></a>"
      ]
    },
    {
      "cell_type": "markdown",
      "metadata": {
        "id": "Y1WmQZOcHifh",
        "colab_type": "text"
      },
      "source": [
        "# This notebook is being created to start the final week 1 project for the Applied Data Science Capstone course.\n"
      ]
    },
    {
      "cell_type": "code",
      "metadata": {
        "id": "t47vagNaGzzk",
        "colab_type": "code",
        "colab": {
          "base_uri": "https://localhost:8080/",
          "height": 68
        },
        "outputId": "95b6c03f-2362-4e16-fc39-a8d00e73c107"
      },
      "source": [
        "import pandas as pd\n",
        "print(\"pandas imported\")\n",
        "import numpy as np\n",
        "print(\"numpy imported\")\n",
        "print(\"Hello Capstone Project Course!\")"
      ],
      "execution_count": 2,
      "outputs": [
        {
          "output_type": "stream",
          "text": [
            "pandas imported\n",
            "numpy imported\n",
            "Hello Capstone Project Course!\n"
          ],
          "name": "stdout"
        }
      ]
    },
    {
      "cell_type": "code",
      "metadata": {
        "id": "Z0fsXCipIAGw",
        "colab_type": "code",
        "colab": {}
      },
      "source": [
        ""
      ],
      "execution_count": 0,
      "outputs": []
    }
  ]
}